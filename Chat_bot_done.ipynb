{
  "nbformat": 4,
  "nbformat_minor": 0,
  "metadata": {
    "colab": {
      "provenance": []
    },
    "kernelspec": {
      "name": "python3",
      "display_name": "Python 3"
    },
    "language_info": {
      "name": "python"
    }
  },
  "cells": [
    {
      "cell_type": "code",
      "execution_count": 3,
      "metadata": {
        "colab": {
          "base_uri": "https://localhost:8080/"
        },
        "id": "KRCyFN7h49yT",
        "outputId": "8fff50fa-3aca-4b9b-d9e8-37b2c5944334"
      },
      "outputs": [
        {
          "output_type": "stream",
          "name": "stdout",
          "text": [
            "Writing intents.json\n"
          ]
        }
      ],
      "source": [
        "%%writefile intents.json\n",
        "{\n",
        "  \"intents\": [\n",
        "    {\n",
        "      \"tag\": \"enjoyOfTravel\",\n",
        "      \"patterns\": [\"Do you like travelling?\",\"Are you fond of traveling?\", \"Do you enjoy traveling?\",\"Do you have a strong desire to see and explore the world around you?\",\"Do you get a sense of fulfillment from seeing new sights and experiencing new things?\", \"Are you a fan of experiencing different cuisines and lifestyles from around the world?\", \"Do you get excited about the idea of going on a trip to somewhere you've never been before?\",\"Do you relish the opportunity to go on adventures and try new things?\"],\n",
        "      \"responses\": [\"I absolutely love traveling and exploring new places.\", \"Yes, I find traveling to be an enriching and exciting experience.\", \"Definitely, traveling allows me to learn about new cultures and meet new people.\", \"Absolutely, traveling is one of my favorite hobbies.\",  \"Yes, there is nothing quite like the feeling of discovering a new destination.\", \"Without a doubt, traveling broadens my horizons and gives me a new perspective on life.\", \"Yes, I believe that traveling is an essential part of personal growth and development.\", \"I can't get enough of traveling, there is always something new to discover and learn.\", \"Yes, traveling allows me to break out of my comfort zone and challenge myself.\", \"For me, there is nothing quite like the thrill of exploring new destinations and creating unforgettable memories.\"]\n",
        "    },\n",
        "    {\n",
        "      \"tag\": \"withWhom\",\n",
        "      \"patterns\": [\"Who do you usually travel with?\", \"Do you usually go on vacation with family or friends?\", \"With whom do you like to share your travel experiences?\", \"Who is your favorite travel companion?\", \"Do you prefer to travel solo or with a group?\", \"Who do you think is the best person to travel with?\", \"Do you enjoy traveling with someone or by yourself?\", \"Who would you love to go on vacation with that you haven't yet?\", \"Do you like to travel with people who have similar interests as you?\", \"Do you think it's important to travel with someone you're close to?\"],\n",
        "      \"responses\": [\"I often travel with my family members, such as my parents or siblings.\", \"I usually go on trips with my close friends.\", \"Sometimes, I prefer to travel alone to explore new places and challenge myself.\", \"I travel with my spouse and kids to make it a family vacation.\", \"I often travel with my colleagues to attend work-related conferences and events.\", \"I prefer to travel with a tour group to meet new people and make friends.\", \"I travel with my significant other to create special memories together.\", \"I usually travel with my classmates or study group to explore new cultures and learn together.\", \"Sometimes, I travel with my pet to make it a fun and adventurous experience for both of us.\", \"I travel with my sports team to compete in tournaments and matches in different cities or countries.\"]\n",
        "    },\n",
        "    \n",
        "    {\n",
        "      \"tag\": \"WhichPlace\",\n",
        "      \"patterns\": [\"Which places have you traveled to?\",\"What destinations have you explored?\",\n",
        "\"What places have you visited so far?\",\"What are some of the places you have been to?\",\n",
        "\"What countries have you visited in your travels?\",\n",
        "\"What tourist attractions have you seen?\",\"What places have you had the chance to explore?\",\n",
        "\"What sights have you seen on your travels?\",\"What landmarks have you visited?\",\"What notable places have you been to?\"],\n",
        "\n",
        "      \"responses\": [\"I have visited many cities and towns in my country.\",\n",
        "\"I have visited several countries and experienced a variety of cultures.\",\n",
        "\"I have been to beaches, mountains, and even some islands.\",\n",
        "\"I have visited historic sites and museums to learn more about the past.\",\n",
        "\"I have explored big cities with lots of hustle and bustle.\",\n",
        "\"I have visited small villages where life is more simple and traditional.\",\n",
        "\"I have traveled to some remote areas and witnessed breathtaking natural scenery.\",\n",
        "\"I have visited some theme parks and had lots of fun with family and friends.\",\n",
        "\"I have visited some religious sites and learned about different beliefs and practices.\",\n",
        "\"I have visited some places known for their delicious food and beverages.\"]\n",
        "    },\n",
        "\n",
        "    {\n",
        "      \"tag\": \"Hobbi\",\n",
        "      \"patterns\": [\"Do you like exploring local cuisine?\",\n",
        "\"Are you interested in visiting historical sites and museums?\",\n",
        "\"Do you prefer outdoor activities such as hiking or surfing?\",\n",
        "\"Have you tried adventure activities like bungee jumping or skydiving?\",\n",
        "\"Do you enjoy shopping for local souvenirs and crafts?\",\n",
        "\"Do you like to attend cultural events such as music festivals or art exhibitions?\",\n",
        "\"Do you like to meet new people and make friends while traveling?\",\n",
        "\"Are you interested in learning about the local language and customs?\",\n",
        "\"Do you prefer to relax and unwind at spas or beaches?\",\n",
        "\"Do you like to document your travels through photography or journaling?\"],\n",
        "      \"responses\": [\"I like to explore the local culture, try new foods, and meet new people. I also enjoy visiting historical landmarks and museums to learn about the history and traditions of the place.\", \"When I visit new places, I like to go on walking tours or hikes to see the natural beauty of the area. I also like to try new activities that are unique to the region, like surfing in Hawaii or skiing in the Alps.\", \"I love to take photographs and capture the essence of the place. I also like to read about the history and culture of the area before I go, so that I can have a deeper understanding of what I'm seeing and experiencing.\", \"I enjoy immersing myself in the local lifestyle and experiencing things like the daily markets, the public transportation, and the local music scene. It's a great way to get a sense of the place and its people.\", \"I like to plan my trips in advance, so that I can make the most of my time in the new place. This involves researching the must-see sights and activities, as well as the best places to eat and drink.\", \"I enjoy trying new things when I visit new places. This could be as simple as trying a new type of food, or as adventurous as skydiving or bungee jumping.\", \"I like to take a slow approach when I visit new places, and really soak up the atmosphere of the place. This could involve spending time in local parks, visiting coffee shops, or just people-watching.\", \"When I visit new places, I like to connect with the local people and learn about their way of life. This could involve taking a cooking class, volunteering, or just striking up a conversation with a stranger.\", \"I enjoy visiting local art galleries and museums when I visit new places. It's a great way to learn about the local culture and history, and to see some amazing works of art.\", \"I like to challenge myself physically when I visit new places. This could involve going on a long hike, trying a new sport, or just walking around the city to see the sights.\"]\n",
        "    }\n",
        "  ]\n",
        "}"
      ]
    },
    {
      "cell_type": "code",
      "source": [
        "import nltk\n",
        "import numpy as np\n",
        "import json\n",
        "import numpy as np\n",
        "import torch\n",
        "import torch.nn as nn\n",
        "from torch.utils.data import Dataset, DataLoader \n",
        "nltk.download('punkt')\n",
        "from nltk.stem.porter import PorterStemmer\n",
        "stemmer = PorterStemmer()\n",
        "\n",
        "\n",
        "def tokenize(sentence):\n",
        "    \"\"\"\n",
        "    split sentence into array of words/tokens\n",
        "    a token can be a word or punctuation character, or number\n",
        "    \"\"\"\n",
        "    return nltk.word_tokenize(sentence)\n",
        "\n",
        "\n",
        "def stem(word):\n",
        "    \"\"\"\n",
        "    stemming = find the root form of the word\n",
        "    examples:\n",
        "    words = [\"organize\", \"organizes\", \"organizing\"]\n",
        "    words = [stem(w) for w in words]\n",
        "    -> [\"organ\", \"organ\", \"organ\"]\n",
        "    \"\"\"\n",
        "    return stemmer.stem(word.lower())\n",
        "\n",
        "\n",
        "def bag_of_words(tokenized_sentence, words):\n",
        "    \"\"\"\n",
        "    return bag of words array:\n",
        "    1 for each known word that exists in the sentence, 0 otherwise\n",
        "    example:\n",
        "    sentence = [\"hello\", \"how\", \"are\", \"you\"]\n",
        "    words = [\"hi\", \"hello\", \"I\", \"you\", \"bye\", \"thank\", \"cool\"]\n",
        "    bog   = [  0 ,    1 ,    0 ,   1 ,    0 ,    0 ,      0]\n",
        "    \"\"\"\n",
        "    # stem each word\n",
        "    sentence_words = [stem(word) for word in tokenized_sentence]\n",
        "    # initialize bag with 0 for each word\n",
        "    bag = np.zeros(len(words), dtype=np.float32)\n",
        "    for idx, w in enumerate(words):\n",
        "        if w in sentence_words: \n",
        "            bag[idx] = 1\n",
        "\n",
        "    return bag"
      ],
      "metadata": {
        "colab": {
          "base_uri": "https://localhost:8080/"
        },
        "id": "Vxh49nWAC9bx",
        "outputId": "f0b406ba-5d87-4c8a-a05e-cd211d77c9b8"
      },
      "execution_count": 36,
      "outputs": [
        {
          "output_type": "stream",
          "name": "stderr",
          "text": [
            "[nltk_data] Downloading package punkt to /root/nltk_data...\n",
            "[nltk_data]   Package punkt is already up-to-date!\n"
          ]
        }
      ]
    },
    {
      "cell_type": "code",
      "source": [
        "import torch\n",
        "import torch.nn as nn\n",
        "\n",
        "\n",
        "class NeuralNet(nn.Module):\n",
        "    def __init__(self, input_size, hidden_size, num_classes):\n",
        "        super(NeuralNet, self).__init__()\n",
        "        self.l1 = nn.Linear(input_size, hidden_size) \n",
        "        self.l2 = nn.Linear(hidden_size, hidden_size) \n",
        "        self.l3 = nn.Linear(hidden_size, num_classes)\n",
        "        self.relu = nn.ReLU()\n",
        "    \n",
        "    def forward(self, x):\n",
        "        out = self.l1(x)\n",
        "        out = self.relu(out)\n",
        "        out = self.l2(out)\n",
        "        out = self.relu(out)\n",
        "        out = self.l3(out)\n",
        "        # no activation and no softmax at the end\n",
        "        return out"
      ],
      "metadata": {
        "id": "_WlgUnd62oCC"
      },
      "execution_count": 34,
      "outputs": []
    },
    {
      "cell_type": "code",
      "source": [
        "import numpy as np\n",
        "import random\n",
        "import json\n",
        "\n",
        "import torch\n",
        "import torch.nn as nn\n",
        "from torch.utils.data import Dataset, DataLoader\n",
        "\n",
        "with open('intents.json', 'r') as f:\n",
        "    intents = json.load(f)\n",
        "\n",
        "all_words = []\n",
        "tags = []\n",
        "xy = []\n",
        "# loop through each sentence in our intents patterns\n",
        "for intent in intents['intents']:\n",
        "    tag = intent['tag']\n",
        "    # add to tag list\n",
        "    tags.append(tag)\n",
        "    for pattern in intent['patterns']:\n",
        "        # tokenize each word in the sentence\n",
        "        w = tokenize(pattern)\n",
        "        # add to our words list\n",
        "        all_words.extend(w)\n",
        "        # add to xy pair\n",
        "        xy.append((w, tag))\n",
        "\n",
        "# stem and lower each word\n",
        "ignore_words = ['?', '.', '!']\n",
        "all_words = [stem(w) for w in all_words if w not in ignore_words]\n",
        "# remove duplicates and sort\n",
        "all_words = sorted(set(all_words))\n",
        "tags = sorted(set(tags))\n",
        "\n",
        "print(len(xy), \"patterns\")\n",
        "print(len(tags), \"tags:\", tags)\n",
        "print(len(all_words), \"unique stemmed words:\", all_words)\n",
        "\n",
        "# create training data\n",
        "X_train = []\n",
        "y_train = []\n",
        "for (pattern_sentence, tag) in xy:\n",
        "    # X: bag of words for each pattern_sentence\n",
        "    bag = bag_of_words(pattern_sentence, all_words)\n",
        "    X_train.append(bag)\n",
        "    # y: PyTorch CrossEntropyLoss needs only class labels, not one-hot\n",
        "    label = tags.index(tag)\n",
        "    y_train.append(label)\n",
        "\n",
        "X_train = np.array(X_train)\n",
        "y_train = np.array(y_train)\n",
        "\n",
        "# Hyper-parameters \n",
        "num_epochs = 1000\n",
        "batch_size = 8\n",
        "learning_rate = 0.001\n",
        "input_size = len(X_train[0])\n",
        "hidden_size = 8\n",
        "output_size = len(tags)\n",
        "print(input_size, output_size)\n",
        "\n",
        "class ChatDataset(Dataset):\n",
        "\n",
        "    def __init__(self):\n",
        "        self.n_samples = len(X_train)\n",
        "        self.x_data = X_train\n",
        "        self.y_data = y_train\n",
        "\n",
        "    # support indexing such that dataset[i] can be used to get i-th sample\n",
        "    def __getitem__(self, index):\n",
        "        return self.x_data[index], self.y_data[index]\n",
        "\n",
        "    # we can call len(dataset) to return the size\n",
        "    def __len__(self):\n",
        "        return self.n_samples\n",
        "\n",
        "dataset = ChatDataset()\n",
        "train_loader = DataLoader(dataset=dataset,\n",
        "                          batch_size=batch_size,\n",
        "                          shuffle=True,\n",
        "                          num_workers=0)\n",
        "\n",
        "device = torch.device('cuda' if torch.cuda.is_available() else 'cpu')\n",
        "\n",
        "model = NeuralNet(input_size, hidden_size, output_size).to(device)\n",
        "\n",
        "# Loss and optimizer\n",
        "criterion = nn.CrossEntropyLoss()\n",
        "optimizer = torch.optim.Adam(model.parameters(), lr=learning_rate)\n",
        "\n",
        "# Train the model\n",
        "for epoch in range(num_epochs):\n",
        "    for (words, labels) in train_loader:\n",
        "        words = words.to(device)\n",
        "        labels = labels.to(dtype=torch.long).to(device)\n",
        "        \n",
        "        # Forward pass\n",
        "        outputs = model(words)\n",
        "        # if y would be one-hot, we must apply\n",
        "        # labels = torch.max(labels, 1)[1]\n",
        "        loss = criterion(outputs, labels)\n",
        "        \n",
        "        # Backward and optimize\n",
        "        optimizer.zero_grad()\n",
        "        loss.backward()\n",
        "        optimizer.step()\n",
        "        \n",
        "    if (epoch+1) % 100 == 0:\n",
        "        print (f'Epoch [{epoch+1}/{num_epochs}], Loss: {loss.item():.4f}')"
      ],
      "metadata": {
        "colab": {
          "base_uri": "https://localhost:8080/"
        },
        "id": "Qu4wo-AkThdg",
        "outputId": "dd433881-c5a4-479c-c43a-21f6f02b2022"
      },
      "execution_count": 38,
      "outputs": [
        {
          "output_type": "stream",
          "name": "stdout",
          "text": [
            "38 patterns\n",
            "4 tags: ['Hobbi', 'WhichPlace', 'enjoyOfTravel', 'withWhom']\n",
            "138 unique stemmed words: [\"'re\", \"'s\", \"'ve\", 'a', 'about', 'activ', 'adventur', 'and', 'are', 'around', 'art', 'as', 'at', 'attend', 'attract', 'beach', 'been', 'befor', 'best', 'bunge', 'by', 'chanc', 'close', 'companion', 'countri', 'craft', 'cuisin', 'cultur', 'custom', 'desir', 'destin', 'differ', 'do', 'document', 'enjoy', 'event', 'excit', 'exhibit', 'experi', 'experienc', 'explor', 'famili', 'fan', 'far', 'favorit', 'festiv', 'fond', 'for', 'friend', 'from', 'fulfil', 'get', 'go', 'group', 'had', 'have', 'hike', 'histor', 'idea', 'import', 'in', 'interest', 'is', 'it', 'journal', 'jump', 'landmark', 'languag', 'learn', 'lifestyl', 'like', 'local', 'love', 'make', 'meet', 'museum', 'music', \"n't\", 'never', 'new', 'notabl', 'of', 'on', 'opportun', 'or', 'outdoor', 'peopl', 'person', 'photographi', 'place', 'prefer', 'relax', 'relish', 'see', 'seen', 'sens', 'share', 'shop', 'sight', 'similar', 'site', 'skydiv', 'so', 'solo', 'some', 'someon', 'somewher', 'souvenir', 'spa', 'strong', 'such', 'surf', 'that', 'the', 'thing', 'think', 'through', 'to', 'tourist', 'travel', 'tri', 'trip', 'unwind', 'usual', 'vacat', 'visit', 'what', 'which', 'while', 'who', 'whom', 'with', 'world', 'would', 'yet', 'you', 'your', 'yourself']\n",
            "138 4\n",
            "Epoch [100/1000], Loss: 0.0525\n",
            "Epoch [200/1000], Loss: 0.0043\n",
            "Epoch [300/1000], Loss: 0.0078\n",
            "Epoch [400/1000], Loss: 0.0029\n",
            "Epoch [500/1000], Loss: 0.0014\n",
            "Epoch [600/1000], Loss: 0.0004\n",
            "Epoch [700/1000], Loss: 0.0001\n",
            "Epoch [800/1000], Loss: 0.0001\n",
            "Epoch [900/1000], Loss: 0.0001\n",
            "Epoch [1000/1000], Loss: 0.0001\n"
          ]
        }
      ]
    },
    {
      "cell_type": "code",
      "source": [
        "print(f'final loss: {loss.item():.4f}')\n",
        "\n",
        "data = {\n",
        "\"model_state\": model.state_dict(),\n",
        "\"input_size\": input_size,\n",
        "\"hidden_size\": hidden_size,\n",
        "\"output_size\": output_size,\n",
        "\"all_words\": all_words,\n",
        "\"tags\": tags\n",
        "}\n",
        "\n",
        "FILE = \"data.pth\"\n",
        "torch.save(data, FILE)\n",
        "\n",
        "print(f'training complete. file saved to {FILE}')"
      ],
      "metadata": {
        "colab": {
          "base_uri": "https://localhost:8080/"
        },
        "id": "5JeGts7d2UbF",
        "outputId": "5cf5b83f-29fd-4137-b2c6-31b3ee22db43"
      },
      "execution_count": 39,
      "outputs": [
        {
          "output_type": "stream",
          "name": "stdout",
          "text": [
            "final loss: 0.0001\n",
            "training complete. file saved to data.pth\n"
          ]
        }
      ]
    },
    {
      "cell_type": "code",
      "source": [
        "import random\n",
        "import json\n",
        "\n",
        "import torch\n",
        "\n",
        "\n",
        "device = torch.device('cuda' if torch.cuda.is_available() else 'cpu')\n",
        "\n",
        "with open('intents.json', 'r') as json_data:\n",
        "    intents = json.load(json_data)\n",
        "\n",
        "FILE = \"data.pth\"\n",
        "data = torch.load(FILE)\n",
        "\n",
        "input_size = data[\"input_size\"]\n",
        "hidden_size = data[\"hidden_size\"]\n",
        "output_size = data[\"output_size\"]\n",
        "all_words = data['all_words']\n",
        "tags = data['tags']\n",
        "model_state = data[\"model_state\"]\n",
        "\n",
        "model = NeuralNet(input_size, hidden_size, output_size).to(device)\n",
        "model.load_state_dict(model_state)\n",
        "model.eval()\n",
        "\n",
        "bot_name = \"Turism based bot\"\n",
        "\n",
        "def get_response(msg):\n",
        "    sentence = tokenize(msg)\n",
        "    X = bag_of_words(sentence, all_words)\n",
        "    X = X.reshape(1, X.shape[0])\n",
        "    X = torch.from_numpy(X).to(device)\n",
        "\n",
        "    output = model(X)\n",
        "    _, predicted = torch.max(output, dim=1)\n",
        "\n",
        "    tag = tags[predicted.item()]\n",
        "\n",
        "    probs = torch.softmax(output, dim=1)\n",
        "    prob = probs[0][predicted.item()]\n",
        "    if prob.item() > 0.75:\n",
        "        for intent in intents['intents']:\n",
        "            if tag == intent[\"tag\"]:\n",
        "                return random.choice(intent['responses'])\n",
        "    \n",
        "    return \"I do not understand...\"\n",
        "\n",
        "\n",
        "if __name__ == \"__main__\":\n",
        "    print(\"Let's chat! (type 'quit' to exit)\")\n",
        "    while True:\n",
        "        # sentence = \"do you use credit cards?\"\n",
        "        sentence = input(\"You: \")\n",
        "        if sentence == \"quit\":\n",
        "            break\n",
        "\n",
        "        resp = get_response(sentence)\n",
        "        print(resp)\n"
      ],
      "metadata": {
        "colab": {
          "base_uri": "https://localhost:8080/",
          "height": 553
        },
        "id": "ZGxynaejACKS",
        "outputId": "616dc4d3-5d44-4b6e-df2d-5cd217974c9d"
      },
      "execution_count": 42,
      "outputs": [
        {
          "output_type": "stream",
          "name": "stdout",
          "text": [
            "Let's chat! (type 'quit' to exit)\n",
            "You: which place do you want to go to travel\n",
            "I have visited small villages where life is more simple and traditional.\n",
            "You: Are you interested in visiting historical sites and museums?\n",
            "I like to explore the local culture, try new foods, and meet new people. I also enjoy visiting historical landmarks and museums to learn about the history and traditions of the place.\n",
            "You: What countries have you visited in your travels?\n",
            "I have visited several countries and experienced a variety of cultures.\n",
            "You: Who do you usually travel with?\n",
            "I usually travel with my classmates or study group to explore new cultures and learn together.\n"
          ]
        },
        {
          "output_type": "error",
          "ename": "KeyboardInterrupt",
          "evalue": "ignored",
          "traceback": [
            "\u001b[0;31m---------------------------------------------------------------------------\u001b[0m",
            "\u001b[0;31mKeyboardInterrupt\u001b[0m                         Traceback (most recent call last)",
            "\u001b[0;32m<ipython-input-42-b0e872eb5caf>\u001b[0m in \u001b[0;36m<cell line: 49>\u001b[0;34m()\u001b[0m\n\u001b[1;32m     51\u001b[0m     \u001b[0;32mwhile\u001b[0m \u001b[0;32mTrue\u001b[0m\u001b[0;34m:\u001b[0m\u001b[0;34m\u001b[0m\u001b[0;34m\u001b[0m\u001b[0m\n\u001b[1;32m     52\u001b[0m         \u001b[0;31m# sentence = \"do you use credit cards?\"\u001b[0m\u001b[0;34m\u001b[0m\u001b[0;34m\u001b[0m\u001b[0m\n\u001b[0;32m---> 53\u001b[0;31m         \u001b[0msentence\u001b[0m \u001b[0;34m=\u001b[0m \u001b[0minput\u001b[0m\u001b[0;34m(\u001b[0m\u001b[0;34m\"You: \"\u001b[0m\u001b[0;34m)\u001b[0m\u001b[0;34m\u001b[0m\u001b[0;34m\u001b[0m\u001b[0m\n\u001b[0m\u001b[1;32m     54\u001b[0m         \u001b[0;32mif\u001b[0m \u001b[0msentence\u001b[0m \u001b[0;34m==\u001b[0m \u001b[0;34m\"quit\"\u001b[0m\u001b[0;34m:\u001b[0m\u001b[0;34m\u001b[0m\u001b[0;34m\u001b[0m\u001b[0m\n\u001b[1;32m     55\u001b[0m             \u001b[0;32mbreak\u001b[0m\u001b[0;34m\u001b[0m\u001b[0;34m\u001b[0m\u001b[0m\n",
            "\u001b[0;32m/usr/local/lib/python3.9/dist-packages/ipykernel/kernelbase.py\u001b[0m in \u001b[0;36mraw_input\u001b[0;34m(self, prompt)\u001b[0m\n\u001b[1;32m    849\u001b[0m                 \u001b[0;34m\"raw_input was called, but this frontend does not support input requests.\"\u001b[0m\u001b[0;34m\u001b[0m\u001b[0;34m\u001b[0m\u001b[0m\n\u001b[1;32m    850\u001b[0m             )\n\u001b[0;32m--> 851\u001b[0;31m         return self._input_request(str(prompt),\n\u001b[0m\u001b[1;32m    852\u001b[0m             \u001b[0mself\u001b[0m\u001b[0;34m.\u001b[0m\u001b[0m_parent_ident\u001b[0m\u001b[0;34m,\u001b[0m\u001b[0;34m\u001b[0m\u001b[0;34m\u001b[0m\u001b[0m\n\u001b[1;32m    853\u001b[0m             \u001b[0mself\u001b[0m\u001b[0;34m.\u001b[0m\u001b[0m_parent_header\u001b[0m\u001b[0;34m,\u001b[0m\u001b[0;34m\u001b[0m\u001b[0;34m\u001b[0m\u001b[0m\n",
            "\u001b[0;32m/usr/local/lib/python3.9/dist-packages/ipykernel/kernelbase.py\u001b[0m in \u001b[0;36m_input_request\u001b[0;34m(self, prompt, ident, parent, password)\u001b[0m\n\u001b[1;32m    893\u001b[0m             \u001b[0;32mexcept\u001b[0m \u001b[0mKeyboardInterrupt\u001b[0m\u001b[0;34m:\u001b[0m\u001b[0;34m\u001b[0m\u001b[0;34m\u001b[0m\u001b[0m\n\u001b[1;32m    894\u001b[0m                 \u001b[0;31m# re-raise KeyboardInterrupt, to truncate traceback\u001b[0m\u001b[0;34m\u001b[0m\u001b[0;34m\u001b[0m\u001b[0m\n\u001b[0;32m--> 895\u001b[0;31m                 \u001b[0;32mraise\u001b[0m \u001b[0mKeyboardInterrupt\u001b[0m\u001b[0;34m(\u001b[0m\u001b[0;34m\"Interrupted by user\"\u001b[0m\u001b[0;34m)\u001b[0m \u001b[0;32mfrom\u001b[0m \u001b[0;32mNone\u001b[0m\u001b[0;34m\u001b[0m\u001b[0;34m\u001b[0m\u001b[0m\n\u001b[0m\u001b[1;32m    896\u001b[0m             \u001b[0;32mexcept\u001b[0m \u001b[0mException\u001b[0m \u001b[0;32mas\u001b[0m \u001b[0me\u001b[0m\u001b[0;34m:\u001b[0m\u001b[0;34m\u001b[0m\u001b[0;34m\u001b[0m\u001b[0m\n\u001b[1;32m    897\u001b[0m                 \u001b[0mself\u001b[0m\u001b[0;34m.\u001b[0m\u001b[0mlog\u001b[0m\u001b[0;34m.\u001b[0m\u001b[0mwarning\u001b[0m\u001b[0;34m(\u001b[0m\u001b[0;34m\"Invalid Message:\"\u001b[0m\u001b[0;34m,\u001b[0m \u001b[0mexc_info\u001b[0m\u001b[0;34m=\u001b[0m\u001b[0;32mTrue\u001b[0m\u001b[0;34m)\u001b[0m\u001b[0;34m\u001b[0m\u001b[0;34m\u001b[0m\u001b[0m\n",
            "\u001b[0;31mKeyboardInterrupt\u001b[0m: Interrupted by user"
          ]
        }
      ]
    },
    {
      "cell_type": "code",
      "source": [],
      "metadata": {
        "id": "RzZjD3uoAKWw"
      },
      "execution_count": null,
      "outputs": []
    }
  ]
}